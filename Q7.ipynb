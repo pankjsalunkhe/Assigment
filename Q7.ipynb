{
  "nbformat": 4,
  "nbformat_minor": 0,
  "metadata": {
    "colab": {
      "provenance": []
    },
    "kernelspec": {
      "name": "python3",
      "display_name": "Python 3"
    },
    "language_info": {
      "name": "python"
    }
  },
  "cells": [
    {
      "cell_type": "code",
      "execution_count": 19,
      "metadata": {
        "id": "sLy4S54BDxl8"
      },
      "outputs": [],
      "source": [
        "import pandas as pd\n",
        "import numpy as np\n",
        "from scipy import stats"
      ]
    },
    {
      "cell_type": "code",
      "source": [
        "data = pd.read_csv(\"/content/Q7 (1).csv\")\n",
        "data.head()"
      ],
      "metadata": {
        "colab": {
          "base_uri": "https://localhost:8080/",
          "height": 206
        },
        "id": "NbbgPqA3Ey1w",
        "outputId": "e790bd84-265c-4410-bef7-09628c1a10f1"
      },
      "execution_count": 20,
      "outputs": [
        {
          "output_type": "execute_result",
          "data": {
            "text/plain": [
              "          Unnamed: 0  Points  Score  Weigh\n",
              "0          Mazda RX4    3.90  2.620  16.46\n",
              "1      Mazda RX4 Wag    3.90  2.875  17.02\n",
              "2         Datsun 710    3.85  2.320  18.61\n",
              "3     Hornet 4 Drive    3.08  3.215  19.44\n",
              "4  Hornet Sportabout    3.15  3.440  17.02"
            ],
            "text/html": [
              "\n",
              "  <div id=\"df-e3b943e5-7134-4048-ae99-04719715f551\">\n",
              "    <div class=\"colab-df-container\">\n",
              "      <div>\n",
              "<style scoped>\n",
              "    .dataframe tbody tr th:only-of-type {\n",
              "        vertical-align: middle;\n",
              "    }\n",
              "\n",
              "    .dataframe tbody tr th {\n",
              "        vertical-align: top;\n",
              "    }\n",
              "\n",
              "    .dataframe thead th {\n",
              "        text-align: right;\n",
              "    }\n",
              "</style>\n",
              "<table border=\"1\" class=\"dataframe\">\n",
              "  <thead>\n",
              "    <tr style=\"text-align: right;\">\n",
              "      <th></th>\n",
              "      <th>Unnamed: 0</th>\n",
              "      <th>Points</th>\n",
              "      <th>Score</th>\n",
              "      <th>Weigh</th>\n",
              "    </tr>\n",
              "  </thead>\n",
              "  <tbody>\n",
              "    <tr>\n",
              "      <th>0</th>\n",
              "      <td>Mazda RX4</td>\n",
              "      <td>3.90</td>\n",
              "      <td>2.620</td>\n",
              "      <td>16.46</td>\n",
              "    </tr>\n",
              "    <tr>\n",
              "      <th>1</th>\n",
              "      <td>Mazda RX4 Wag</td>\n",
              "      <td>3.90</td>\n",
              "      <td>2.875</td>\n",
              "      <td>17.02</td>\n",
              "    </tr>\n",
              "    <tr>\n",
              "      <th>2</th>\n",
              "      <td>Datsun 710</td>\n",
              "      <td>3.85</td>\n",
              "      <td>2.320</td>\n",
              "      <td>18.61</td>\n",
              "    </tr>\n",
              "    <tr>\n",
              "      <th>3</th>\n",
              "      <td>Hornet 4 Drive</td>\n",
              "      <td>3.08</td>\n",
              "      <td>3.215</td>\n",
              "      <td>19.44</td>\n",
              "    </tr>\n",
              "    <tr>\n",
              "      <th>4</th>\n",
              "      <td>Hornet Sportabout</td>\n",
              "      <td>3.15</td>\n",
              "      <td>3.440</td>\n",
              "      <td>17.02</td>\n",
              "    </tr>\n",
              "  </tbody>\n",
              "</table>\n",
              "</div>\n",
              "      <button class=\"colab-df-convert\" onclick=\"convertToInteractive('df-e3b943e5-7134-4048-ae99-04719715f551')\"\n",
              "              title=\"Convert this dataframe to an interactive table.\"\n",
              "              style=\"display:none;\">\n",
              "        \n",
              "  <svg xmlns=\"http://www.w3.org/2000/svg\" height=\"24px\"viewBox=\"0 0 24 24\"\n",
              "       width=\"24px\">\n",
              "    <path d=\"M0 0h24v24H0V0z\" fill=\"none\"/>\n",
              "    <path d=\"M18.56 5.44l.94 2.06.94-2.06 2.06-.94-2.06-.94-.94-2.06-.94 2.06-2.06.94zm-11 1L8.5 8.5l.94-2.06 2.06-.94-2.06-.94L8.5 2.5l-.94 2.06-2.06.94zm10 10l.94 2.06.94-2.06 2.06-.94-2.06-.94-.94-2.06-.94 2.06-2.06.94z\"/><path d=\"M17.41 7.96l-1.37-1.37c-.4-.4-.92-.59-1.43-.59-.52 0-1.04.2-1.43.59L10.3 9.45l-7.72 7.72c-.78.78-.78 2.05 0 2.83L4 21.41c.39.39.9.59 1.41.59.51 0 1.02-.2 1.41-.59l7.78-7.78 2.81-2.81c.8-.78.8-2.07 0-2.86zM5.41 20L4 18.59l7.72-7.72 1.47 1.35L5.41 20z\"/>\n",
              "  </svg>\n",
              "      </button>\n",
              "      \n",
              "  <style>\n",
              "    .colab-df-container {\n",
              "      display:flex;\n",
              "      flex-wrap:wrap;\n",
              "      gap: 12px;\n",
              "    }\n",
              "\n",
              "    .colab-df-convert {\n",
              "      background-color: #E8F0FE;\n",
              "      border: none;\n",
              "      border-radius: 50%;\n",
              "      cursor: pointer;\n",
              "      display: none;\n",
              "      fill: #1967D2;\n",
              "      height: 32px;\n",
              "      padding: 0 0 0 0;\n",
              "      width: 32px;\n",
              "    }\n",
              "\n",
              "    .colab-df-convert:hover {\n",
              "      background-color: #E2EBFA;\n",
              "      box-shadow: 0px 1px 2px rgba(60, 64, 67, 0.3), 0px 1px 3px 1px rgba(60, 64, 67, 0.15);\n",
              "      fill: #174EA6;\n",
              "    }\n",
              "\n",
              "    [theme=dark] .colab-df-convert {\n",
              "      background-color: #3B4455;\n",
              "      fill: #D2E3FC;\n",
              "    }\n",
              "\n",
              "    [theme=dark] .colab-df-convert:hover {\n",
              "      background-color: #434B5C;\n",
              "      box-shadow: 0px 1px 3px 1px rgba(0, 0, 0, 0.15);\n",
              "      filter: drop-shadow(0px 1px 2px rgba(0, 0, 0, 0.3));\n",
              "      fill: #FFFFFF;\n",
              "    }\n",
              "  </style>\n",
              "\n",
              "      <script>\n",
              "        const buttonEl =\n",
              "          document.querySelector('#df-e3b943e5-7134-4048-ae99-04719715f551 button.colab-df-convert');\n",
              "        buttonEl.style.display =\n",
              "          google.colab.kernel.accessAllowed ? 'block' : 'none';\n",
              "\n",
              "        async function convertToInteractive(key) {\n",
              "          const element = document.querySelector('#df-e3b943e5-7134-4048-ae99-04719715f551');\n",
              "          const dataTable =\n",
              "            await google.colab.kernel.invokeFunction('convertToInteractive',\n",
              "                                                     [key], {});\n",
              "          if (!dataTable) return;\n",
              "\n",
              "          const docLinkHtml = 'Like what you see? Visit the ' +\n",
              "            '<a target=\"_blank\" href=https://colab.research.google.com/notebooks/data_table.ipynb>data table notebook</a>'\n",
              "            + ' to learn more about interactive tables.';\n",
              "          element.innerHTML = '';\n",
              "          dataTable['output_type'] = 'display_data';\n",
              "          await google.colab.output.renderOutput(dataTable, element);\n",
              "          const docLink = document.createElement('div');\n",
              "          docLink.innerHTML = docLinkHtml;\n",
              "          element.appendChild(docLink);\n",
              "        }\n",
              "      </script>\n",
              "    </div>\n",
              "  </div>\n",
              "  "
            ]
          },
          "metadata": {},
          "execution_count": 20
        }
      ]
    },
    {
      "cell_type": "code",
      "source": [
        "points = data['Points']\n",
        "score = data['Score']\n",
        "weigh = data['Weigh']"
      ],
      "metadata": {
        "id": "GRC6_PEDFJFH"
      },
      "execution_count": 21,
      "outputs": []
    },
    {
      "cell_type": "code",
      "source": [
        "mean_points = np.mean(points)\n",
        "mean_scores = np.mean(score)\n",
        "mean_weights = np.mean(weigh)"
      ],
      "metadata": {
        "id": "vg9b1Nf9Fhun"
      },
      "execution_count": 34,
      "outputs": []
    },
    {
      "cell_type": "code",
      "source": [
        "median_points = np.median(points)\n",
        "median_scores = np.median(score)\n",
        "median_weights = np.median(weigh)"
      ],
      "metadata": {
        "id": "fnqGY4uIGUFZ"
      },
      "execution_count": 35,
      "outputs": []
    },
    {
      "cell_type": "code",
      "source": [
        "mode_points = stats.mode(points)\n",
        "mode_scores = stats.mode(score)\n",
        "mode_weights = stats.mode(weigh)\n",
        "\n",
        "\n"
      ],
      "metadata": {
        "colab": {
          "base_uri": "https://localhost:8080/"
        },
        "id": "YedW-AgmGdei",
        "outputId": "ecd9693b-f65a-4e02-c983-c091c360bebb"
      },
      "execution_count": 36,
      "outputs": [
        {
          "output_type": "stream",
          "name": "stderr",
          "text": [
            "<ipython-input-36-2fa2dca1f737>:1: FutureWarning: Unlike other reduction functions (e.g. `skew`, `kurtosis`), the default behavior of `mode` typically preserves the axis it acts along. In SciPy 1.11.0, this behavior will change: the default value of `keepdims` will become False, the `axis` over which the statistic is taken will be eliminated, and the value None will no longer be accepted. Set `keepdims` to True or False to avoid this warning.\n",
            "  mode_points = stats.mode(points)\n",
            "<ipython-input-36-2fa2dca1f737>:2: FutureWarning: Unlike other reduction functions (e.g. `skew`, `kurtosis`), the default behavior of `mode` typically preserves the axis it acts along. In SciPy 1.11.0, this behavior will change: the default value of `keepdims` will become False, the `axis` over which the statistic is taken will be eliminated, and the value None will no longer be accepted. Set `keepdims` to True or False to avoid this warning.\n",
            "  mode_scores = stats.mode(score)\n",
            "<ipython-input-36-2fa2dca1f737>:3: FutureWarning: Unlike other reduction functions (e.g. `skew`, `kurtosis`), the default behavior of `mode` typically preserves the axis it acts along. In SciPy 1.11.0, this behavior will change: the default value of `keepdims` will become False, the `axis` over which the statistic is taken will be eliminated, and the value None will no longer be accepted. Set `keepdims` to True or False to avoid this warning.\n",
            "  mode_weights = stats.mode(weigh)\n"
          ]
        }
      ]
    },
    {
      "cell_type": "code",
      "source": [
        "# Calculate variance\n",
        "variance_points = np.var(points)\n",
        "variance_scores = np.var(score)\n",
        "variance_weights = np.var(weigh)"
      ],
      "metadata": {
        "id": "DOrGn81vGy2f"
      },
      "execution_count": 25,
      "outputs": []
    },
    {
      "cell_type": "code",
      "source": [
        "# Calculate standard deviation\n",
        "std_dev_points = np.std(points)\n",
        "std_dev_scores = np.std(score)\n",
        "std_dev_weights = np.std(weigh)"
      ],
      "metadata": {
        "id": "Eo2uQJ_hG8UZ"
      },
      "execution_count": 27,
      "outputs": []
    },
    {
      "cell_type": "code",
      "source": [
        "\n",
        "\n",
        "# Extract the column values\n",
        "points = data['Points']\n",
        "scores = data['Score']\n",
        "weights = data['Weigh']\n",
        "\n",
        "# Calculate mean\n",
        "mean_points = round(np.mean(points), 2)\n",
        "mean_scores = round(np.mean(score), 2)\n",
        "mean_weights = round(np.mean(weigh), 2)\n",
        "\n",
        "# Calculate median\n",
        "median_points = round(np.median(points), 2)\n",
        "median_scores = round(np.median(score), 2)\n",
        "median_weights = round(np.median(weigh), 2)\n",
        "\n",
        "# Calculate mode\n",
        "mode_points = stats.mode(points)\n",
        "mode_scores = stats.mode(score)\n",
        "mode_weights = stats.mode(weigh)\n",
        "\n",
        "# Calculate variance\n",
        "variance_points = round(np.var(points), 2)\n",
        "variance_scores = round(np.var(score), 2)\n",
        "variance_weights = round(np.var(weigh), 2)\n",
        "\n",
        "# Calculate standard deviation\n",
        "std_dev_points = round(np.std(points), 2)\n",
        "std_dev_scores = round(np.std(score), 2)\n",
        "std_dev_weights = round(np.std(weigh), 2)\n",
        "\n",
        "# Calculate range\n",
        "range_points = round(np.max(points) - np.min(points), 2)\n",
        "range_scores = round(np.max(score) - np.min(score), 2)\n",
        "range_weights = round(np.max(weigh) - np.min(weigh), 2)"
      ],
      "metadata": {
        "colab": {
          "base_uri": "https://localhost:8080/"
        },
        "id": "T_1Q0JO6HGxQ",
        "outputId": "217a8956-2188-4213-f8bf-ef920001337d"
      },
      "execution_count": 40,
      "outputs": [
        {
          "output_type": "stream",
          "name": "stderr",
          "text": [
            "<ipython-input-40-cb1437ed1414>:17: FutureWarning: Unlike other reduction functions (e.g. `skew`, `kurtosis`), the default behavior of `mode` typically preserves the axis it acts along. In SciPy 1.11.0, this behavior will change: the default value of `keepdims` will become False, the `axis` over which the statistic is taken will be eliminated, and the value None will no longer be accepted. Set `keepdims` to True or False to avoid this warning.\n",
            "  mode_points = stats.mode(points)\n",
            "<ipython-input-40-cb1437ed1414>:18: FutureWarning: Unlike other reduction functions (e.g. `skew`, `kurtosis`), the default behavior of `mode` typically preserves the axis it acts along. In SciPy 1.11.0, this behavior will change: the default value of `keepdims` will become False, the `axis` over which the statistic is taken will be eliminated, and the value None will no longer be accepted. Set `keepdims` to True or False to avoid this warning.\n",
            "  mode_scores = stats.mode(score)\n",
            "<ipython-input-40-cb1437ed1414>:19: FutureWarning: Unlike other reduction functions (e.g. `skew`, `kurtosis`), the default behavior of `mode` typically preserves the axis it acts along. In SciPy 1.11.0, this behavior will change: the default value of `keepdims` will become False, the `axis` over which the statistic is taken will be eliminated, and the value None will no longer be accepted. Set `keepdims` to True or False to avoid this warning.\n",
            "  mode_weights = stats.mode(weigh)\n"
          ]
        }
      ]
    },
    {
      "cell_type": "code",
      "source": [
        "# Print the results\n",
        "print(\"Mean:\")\n",
        "print(\"Points:\", mean_points)\n",
        "print(\"Scores:\", mean_scores)\n",
        "print(\"Weights:\", mean_weights)\n",
        "\n",
        "print(\"Median:\")\n",
        "print(\"Points:\", median_points)\n",
        "print(\"Scores:\", median_scores)\n",
        "print(\"Weights:\", median_weights)\n",
        "\n",
        "print(\"Mode:\")\n",
        "print(\"Points:\", mode_points)\n",
        "print(\"Scores:\", mode_scores)\n",
        "print(\"Weights:\", mode_weights)\n",
        "\n",
        "print(\"Variance:\")\n",
        "print(\"Points:\", variance_points)\n",
        "print(\"Scores:\", variance_scores)\n",
        "print(\"Weights:\", variance_weights)\n",
        "\n",
        "print(\"Standard Deviation:\")\n",
        "print(\"Points:\", std_dev_points)\n",
        "print(\"Scores:\", std_dev_scores)\n",
        "print(\"Weights:\", std_dev_weights)\n",
        "\n",
        "print(\"Range:\")\n",
        "print(\"Points:\", range_points)\n",
        "print(\"Scores:\", range_scores)\n",
        "print(\"Weights:\", range_weights)"
      ],
      "metadata": {
        "colab": {
          "base_uri": "https://localhost:8080/"
        },
        "id": "1WYzhiUAHVmJ",
        "outputId": "8c7eceed-c32b-4653-f070-bf759d90a52b"
      },
      "execution_count": 41,
      "outputs": [
        {
          "output_type": "stream",
          "name": "stdout",
          "text": [
            "Mean:\n",
            "Points: 3.6\n",
            "Scores: 3.22\n",
            "Weights: 17.85\n",
            "Median:\n",
            "Points: 3.7\n",
            "Scores: 3.32\n",
            "Weights: 17.71\n",
            "Mode:\n",
            "Points: ModeResult(mode=array([3.07]), count=array([3]))\n",
            "Scores: ModeResult(mode=array([3.44]), count=array([3]))\n",
            "Weights: ModeResult(mode=array([17.02]), count=array([2]))\n",
            "Variance:\n",
            "Points: 0.28\n",
            "Scores: 0.93\n",
            "Weights: 3.09\n",
            "Standard Deviation:\n",
            "Points: 0.53\n",
            "Scores: 0.96\n",
            "Weights: 1.76\n",
            "Range:\n",
            "Points: 2.17\n",
            "Scores: 3.91\n",
            "Weights: 8.4\n"
          ]
        }
      ]
    },
    {
      "cell_type": "code",
      "source": [],
      "metadata": {
        "id": "Z6QcbauAP7z1"
      },
      "execution_count": null,
      "outputs": []
    }
  ]
}